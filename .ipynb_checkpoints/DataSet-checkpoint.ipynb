{
 "cells": [
  {
   "cell_type": "code",
   "execution_count": null,
   "metadata": {},
   "outputs": [],
   "source": [
    "# Grad-Cam, Saliency Maps"
   ]
  },
  {
   "cell_type": "code",
   "execution_count": 26,
   "metadata": {},
   "outputs": [],
   "source": [
    "import pandas as pd\n",
    "import os\n",
    "import shutil "
   ]
  },
  {
   "cell_type": "code",
   "execution_count": 27,
   "metadata": {},
   "outputs": [],
   "source": [
    "# Determination of Positive Cases\n",
    "path_file = 'covid-chestxray-dataset/metadata.csv'\n",
    "path_image = 'covid-chestxray-dataset/images'"
   ]
  },
  {
   "cell_type": "code",
   "execution_count": 40,
   "metadata": {},
   "outputs": [],
   "source": [
    "dataframe = pd.read_csv(path_file)\n"
   ]
  },
  {
   "cell_type": "code",
   "execution_count": 30,
   "metadata": {},
   "outputs": [],
   "source": [
    "target = 'Container/COVID'\n",
    "\n",
    "if not os.path.exists(target):\n",
    "    os.mkdir(target)\n",
    "    print(\"Directory Born\")"
   ]
  },
  {
   "cell_type": "code",
   "execution_count": 46,
   "metadata": {},
   "outputs": [
    {
     "name": "stdout",
     "output_type": "stream",
     "text": [
      "196\n"
     ]
    }
   ],
   "source": [
    "# Copying Positive Cases to Directory\n",
    "count = 0\n",
    "for (i, row) in dataframe.iterrows() :\n",
    "    if row[\"finding\"] == \"Pneumonia/Viral/COVID-19\" and row[\"view\"] == \"PA\":\n",
    "        filename = row[\"filename\"]\n",
    "        image_path = os.path.join(path_image, filename)\n",
    "        image_copy_path = os.path.join(target, filename)\n",
    "        shutil.copy2(image_path, image_copy_path)\n",
    "        count += 1"
   ]
  },
  {
   "cell_type": "code",
   "execution_count": 54,
   "metadata": {},
   "outputs": [],
   "source": [
    "# Copying Negative Cases to Directory\n",
    "\n",
    "import random\n",
    "neg_file_path = 'chest_xray/train/NORMAL'\n",
    "targeted = 'Container/nonCOVID'"
   ]
  },
  {
   "cell_type": "code",
   "execution_count": 55,
   "metadata": {},
   "outputs": [],
   "source": [
    "images_neg = os.listdir(neg_file_path)\n",
    "random.shuffle(images_neg)"
   ]
  },
  {
   "cell_type": "code",
   "execution_count": 56,
   "metadata": {},
   "outputs": [],
   "source": [
    "for i in range (196):\n",
    "    \n",
    "    image_name = images_neg[i]\n",
    "    image_path = os.path.join(neg_file_path, image_name)\n",
    "    \n",
    "    target_path = os.path.join(targeted, image_name)\n",
    "    \n",
    "    shutil.copy2(image_path, target_path)"
   ]
  },
  {
   "cell_type": "code",
   "execution_count": null,
   "metadata": {},
   "outputs": [],
   "source": []
  }
 ],
 "metadata": {
  "kernelspec": {
   "display_name": "Python 3",
   "language": "python",
   "name": "python3"
  },
  "language_info": {
   "codemirror_mode": {
    "name": "ipython",
    "version": 3
   },
   "file_extension": ".py",
   "mimetype": "text/x-python",
   "name": "python",
   "nbconvert_exporter": "python",
   "pygments_lexer": "ipython3",
   "version": "3.7.9"
  }
 },
 "nbformat": 4,
 "nbformat_minor": 4
}
